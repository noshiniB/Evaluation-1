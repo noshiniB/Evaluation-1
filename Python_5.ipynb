{
 "cells": [
  {
   "cell_type": "code",
   "execution_count": 6,
   "metadata": {},
   "outputs": [
    {
     "name": "stdout",
     "output_type": "stream",
     "text": [
      "The number of terms is \n",
      "12\n",
      "The Fibonacci sequence is :\n",
      "0\n",
      "1\n",
      "1\n",
      "2\n",
      "3\n",
      "5\n",
      "8\n",
      "13\n",
      "21\n",
      "34\n",
      "55\n",
      "89\n"
     ]
    }
   ],
   "source": [
    "def fibonacci_recursion(my_val):\n",
    "   if my_val <= 1:\n",
    "      return my_val\n",
    "   else:\n",
    "      return(fibonacci_recursion(my_val-1) + fibonacci_recursion(my_val-2))\n",
    "num_terms = 12\n",
    "print(\"The number of terms is \")\n",
    "print(num_terms)\n",
    "if num_terms <= 0:\n",
    "   print(\"Enter a positive integer...\")\n",
    "else:\n",
    "   print(\"The Fibonacci sequence is :\")\n",
    "   for i in range(num_terms):\n",
    "      print(fibonacci_recursion(i))\n",
    " \n"
   ]
  },
  {
   "cell_type": "code",
   "execution_count": null,
   "metadata": {},
   "outputs": [],
   "source": [
    "def fibonacci(N):\n",
    "    if N == 0:\n",
    "        return 0\n",
    "\n",
    "    elif N == 1:\n",
    "        return 1\n",
    "\n",
    "    # The above two if statements can be combined as:\n",
    "    # if N <= 1:\n",
    "    #   return N\n",
    "\n",
    "    return fibonacci(N - 1) + fibonacci(N - 2)\n",
    "\n",
    "\n",
    "if __name__ == '__main__':\n",
    "    N = 7\n",
    "    print(f\"{N}th Fibonacci term is:\", fibonacci(N))\n"
   ]
  }
 ],
 "metadata": {
  "kernelspec": {
   "display_name": "Python 3.9.12 ('base')",
   "language": "python",
   "name": "python3"
  },
  "language_info": {
   "codemirror_mode": {
    "name": "ipython",
    "version": 3
   },
   "file_extension": ".py",
   "mimetype": "text/x-python",
   "name": "python",
   "nbconvert_exporter": "python",
   "pygments_lexer": "ipython3",
   "version": "3.9.12"
  },
  "orig_nbformat": 4,
  "vscode": {
   "interpreter": {
    "hash": "5d115df46665058a1d4f5cda1505ff34dbe0bfe5bf9dda16b17067e1aef0ca5a"
   }
  }
 },
 "nbformat": 4,
 "nbformat_minor": 2
}
