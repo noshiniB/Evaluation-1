{
 "cells": [
  {
   "cell_type": "code",
   "execution_count": 3,
   "metadata": {},
   "outputs": [
    {
     "name": "stdout",
     "output_type": "stream",
     "text": [
      "{2, 4, 6, 8, 10, 12, 14, 16, 18, 20}\n",
      "{3, 6, 9, 12, 15, 18, 21, 24, 27, 30}\n",
      "{2, 4, 8, 10, 14, 16, 20}\n"
     ]
    }
   ],
   "source": [
    "Number = 10\n",
    "set1 =set()\n",
    "set2 =set()\n",
    "set3 =set()\n",
    "\n",
    "for i in range(2,Number*2+1):\n",
    "  if i%2 == 0:  \n",
    "    set1.add(i)\n",
    "print(set1)\n",
    "\n",
    "for i in range(3,Number*3+1):\n",
    "  if i%3 == 0:\n",
    "   set2.add(i)\n",
    "print(set2)\n",
    "\n",
    "for i in set1:\n",
    "    if i % 2 != i % 3:\n",
    "     set3.add(i)\n",
    "print(set3)\n"
   ]
  },
  {
   "cell_type": "code",
   "execution_count": null,
   "metadata": {},
   "outputs": [],
   "source": [
    "Number = 10\n",
    "set1 =set()\n",
    "set2 =set()\n",
    "set3 =set()\n",
    "\n",
    "for i in range(2,Number*2+1):\n",
    "  if i%2 == 0:  \n",
    "    set1.add(i)\n",
    "print(set1)\n",
    "\n",
    "for i in range(3,Number*3+1):\n",
    "  if i%3 == 0:\n",
    "   set2.add(i)\n",
    "print(set2)\n",
    "\n",
    "Num = set1 - set2\n",
    "print(Num)"
   ]
  }
 ],
 "metadata": {
  "kernelspec": {
   "display_name": "Python 3.9.12 ('base')",
   "language": "python",
   "name": "python3"
  },
  "language_info": {
   "codemirror_mode": {
    "name": "ipython",
    "version": 3
   },
   "file_extension": ".py",
   "mimetype": "text/x-python",
   "name": "python",
   "nbconvert_exporter": "python",
   "pygments_lexer": "ipython3",
   "version": "3.9.12"
  },
  "orig_nbformat": 4,
  "vscode": {
   "interpreter": {
    "hash": "5d115df46665058a1d4f5cda1505ff34dbe0bfe5bf9dda16b17067e1aef0ca5a"
   }
  }
 },
 "nbformat": 4,
 "nbformat_minor": 2
}
