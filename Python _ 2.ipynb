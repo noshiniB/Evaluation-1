{
 "cells": [
  {
   "cell_type": "code",
   "execution_count": 20,
   "metadata": {},
   "outputs": [
    {
     "name": "stdout",
     "output_type": "stream",
     "text": [
      "[2, 7]\n"
     ]
    }
   ],
   "source": [
    "def prime_fact(x):\n",
    "    prime_factors = []\n",
    "    divisor = 2\n",
    "    while divisor <= x:\n",
    "        if x%divisor == 0:\n",
    "            prime_factors.append(divisor)\n",
    "            x = x/divisor \n",
    "        else:\n",
    "            divisor += 1 #divisor = divisor + 1\n",
    "    return prime_factors\n",
    "\n",
    "print(prime_fact(14))\n",
    "\n"
   ]
  }
 ],
 "metadata": {
  "kernelspec": {
   "display_name": "Python 3.9.12 ('base')",
   "language": "python",
   "name": "python3"
  },
  "language_info": {
   "codemirror_mode": {
    "name": "ipython",
    "version": 3
   },
   "file_extension": ".py",
   "mimetype": "text/x-python",
   "name": "python",
   "nbconvert_exporter": "python",
   "pygments_lexer": "ipython3",
   "version": "3.9.12"
  },
  "orig_nbformat": 4,
  "vscode": {
   "interpreter": {
    "hash": "5d115df46665058a1d4f5cda1505ff34dbe0bfe5bf9dda16b17067e1aef0ca5a"
   }
  }
 },
 "nbformat": 4,
 "nbformat_minor": 2
}
