{
 "cells": [
  {
   "cell_type": "code",
   "execution_count": 1,
   "metadata": {},
   "outputs": [
    {
     "name": "stdout",
     "output_type": "stream",
     "text": [
      " PALINDROME CHECK PROGRAM \n",
      " The given string   '  AnnA  '  is a palindrome\n",
      " The given string   '  SoloS  '  is a palindrome\n",
      " The given string   '  RotatoR  '  is a palindrome\n",
      " The given string   '  RadaR  '  is a palindrome\n",
      " The given string   '  SagaS  '  is a palindrome\n",
      " The given string   '  RotoR  '  is a palindrome\n",
      " The given string   '  TenT  '  is not a palindrome\n",
      " The given string   '  RepapeR  '  is a palindrome\n",
      " The given string   '  CiviC  '  is a palindrome\n",
      " The given string   '  KayaK  '  is a palindrome\n",
      " The given string   '  Lever  '  is not a palindrome\n",
      " The given string   '  MadaM  '  is a palindrome\n",
      " The given string   '  RacecaR  '  is a palindrome\n",
      " The given string   '  StatS  '  is a palindrome\n",
      " The given string   '  Redder  '  is not a palindrome\n",
      " The given string   '  Wow  '  is not a palindrome\n",
      " The given string   '  MoM  '  is a palindrome\n",
      " The given string   '  RefeR  '  is a palindrome\n",
      " The given string   '  NooN  '  is a palindrome\n"
     ]
    }
   ],
   "source": [
    "def isPalindrome(s): \n",
    "   if len(s) <= 1 :\n",
    "      return True\n",
    "   if s[0] == s[len(s) - 1] :\n",
    "      return isPalindrome(s[1:len(s) - 1])\n",
    "   else :\n",
    "      return False\n",
    "Palindrome_input_Variable = [ ' AnnA ' , ' SoloS ' , ' RotatoR ' , ' RadaR ' , ' SagaS ' , ' RotoR ' , ' TenT ' , ' RepapeR ' , ' CiviC ' , ' KayaK ' , ' Lever ' , ' MadaM ' , ' RacecaR ' , ' StatS ' , ' Redder ' , ' Wow ' , ' MoM ' , ' RefeR ' , ' NooN ']\n",
    "print( \" PALINDROME CHECK PROGRAM \" )\n",
    "for i in Palindrome_input_Variable:\n",
    "   ans = isPalindrome(i) \n",
    "   if ans == 1: \n",
    "    print( \" The given string  \", \"'\" , i , \"' \",\"is a palindrome\") \n",
    "   else: \n",
    "    print( \" The given string  \" , \"'\" , i , \"' \",\"is not a palindrome\")"
   ]
  },
  {
   "cell_type": "code",
   "execution_count": 4,
   "metadata": {},
   "outputs": [],
   "source": [
    "my_string=input(\"Enter string:\")\n",
    "if(my_string==my_string[::-1]):\n",
    "   print(\"The string is a palindrome\")\n",
    "else:\n",
    "   print(\"The string isn't a palindrome\")"
   ]
  }
 ],
 "metadata": {
  "kernelspec": {
   "display_name": "Python 3.9.12 ('base')",
   "language": "python",
   "name": "python3"
  },
  "language_info": {
   "codemirror_mode": {
    "name": "ipython",
    "version": 3
   },
   "file_extension": ".py",
   "mimetype": "text/x-python",
   "name": "python",
   "nbconvert_exporter": "python",
   "pygments_lexer": "ipython3",
   "version": "3.9.12"
  },
  "orig_nbformat": 4,
  "vscode": {
   "interpreter": {
    "hash": "5d115df46665058a1d4f5cda1505ff34dbe0bfe5bf9dda16b17067e1aef0ca5a"
   }
  }
 },
 "nbformat": 4,
 "nbformat_minor": 2
}
